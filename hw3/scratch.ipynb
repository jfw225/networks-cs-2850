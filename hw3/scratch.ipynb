{
 "cells": [
  {
   "cell_type": "code",
   "execution_count": 13,
   "metadata": {
    "vscode": {
     "languageId": "wolfram"
    }
   },
   "outputs": [
    {
     "data": {
      "text/html": [
       "<div><img alt=\"Output\" src=\"data:image/png;base64,iVBORw0KGgoAAAANSUhEUgAAAK8AAAAQCAIAAADvbLiCAAAA03pUWHRSYXcgcHJvZmlsZSB0eXBlIGV4aWYAAHjabY/bbQUhDET/qSIl+MUYyuHugpQOUn7MI4k2uiNhDwfbQOpfnyN9TAlTsuwFFaCQVavSwhTa2pmprrjUxjnjJ0/8w1ug/HeAfvjryR07S/k3iGQbnTeEVzsNZ5DK5tz2/nXqpZXyGDSusXQeRlZ+n/5+ry7IYLeIJuSOGr6ksJGQhbJj4AKikHEL2RW5wz3a4LNC22ycku7P6p6gAe75BZ1LtEWuEUU5WlnzIlhE5A5vi8zvfAPtB1yTJBS9pQAAAAlwSFlzAAALEwAACxMBAJqcGAAAADx0RVh0U29mdHdhcmUAQ3JlYXRlZCB3aXRoIHRoZSBXb2xmcmFtIExhbmd1YWdlIDogd3d3LndvbGZyYW0uY29tXKKmhQAAACF0RVh0Q3JlYXRpb24gVGltZQAyMDIyOjA5OjIxIDE1OjA2OjIytUWkugAAAttJREFUaIHtmTGO6jAQhsfvIAjhnIGCksY5AlcwBwhncA5ATYVTcICkodjkGDhCCHENbzHCeJ3ECeY9liflr6LZiedzZjwetERrDaNGAQDAn98GGPVBGqth1ENjNYx6aKyGUQ/9qIY4jgkhdV07Tl3214UrE0LW67UxZllG7vrrEf2qqsqEjuP4E5Ds6MZS1zWxlGUZ2m1+ky80pmnqLNti15aEELpNXfYXJaXknOMzAEgptdZlWRoqIQRj7F+EHiJK6ScgYUSbQWutlKKUOp5KKQBQSmmtpZSOw5DkhtwUURSZc5OmaW/bsA+ZrdVqtd1u8ZkxdrlcAGC/3wsh0Hg8HouiGNKTmufD79+FZEspNZ/Pg5HsdtJ6NAciJUmS53lvOAA4HA6c89lsBgBfX19KqaqqhrxoFFINp9MJANI0rapqs9lorZGgS3meR1HkX7MoisViAQB1XU8mEwCIomi5XFJKb7dbL5IQYrfb4bOdvAAkrG9CiBAC9xWGtFqt8MCVZck5T5IkGKlVSinkNG+dz+fpdAr3wmKMXa/X4QsC/Gw+2Bib/afVjq+XZentc49FPA2WUmr6FWNMSmlWppQODGH2Avdu+QoSkiBVMBKq2dIDkJybwuHEtzjnyIn5QmzjZi5lR7b9EaArtR5713dp1hyl1FzDjiilNhDn3E7nwNTq+7ewZ5FgJJSU0nzlMCStNWOsy/kpJE81mBEBO6LJiJOd5iTRtAdOkQiNY0vrK03/1o8CAM7iNhzn3D4rjDFPODxYOHC9gmSHQ7ZgJCGEp9qeQvJUg+mszrQbMEWGVAPeSeZPvWel63zgmWteW+bWd/aD/p5kM8YGtuUuJHvgsBMZgIRN26j3l0gXkrMOAmDiUXZ2bOfm1lrjvloNvyXcqsfBuSnfoF6kz9HT1YB9r1mhXfZ3qrXebb0/Mb1IHyJsJM1xqmkn+v//j3Zd15RSAFBK+X/rjvLrG2sz5xok6tA1AAAAAElFTkSuQmCC\"></div>"
      ],
      "text/plain": [
       "{{x -> 20, y -> 30, z -> 150}}"
      ]
     },
     "execution_count": 13,
     "metadata": {
      "text/html": [],
      "text/plain": []
     },
     "output_type": "execute_result"
    }
   ],
   "source": [
    "Solve[{x+y+z==200, (4+x/20)==(y/10+2), (y/10+2)==5}, {x, y, z}]"
   ]
  },
  {
   "cell_type": "code",
   "execution_count": 14,
   "metadata": {
    "vscode": {
     "languageId": "wolfram"
    }
   },
   "outputs": [
    {
     "data": {
      "text/html": [
       "<style>\n",
       "\t\t\t\t\t\t\t\t\t\t\t\t\t.grid-container {\n",
       "\t\t\t\t\t\t\t\t\t\t\t\t\t\tdisplay: inline-grid;\n",
       "\t\t\t\t\t\t\t\t\t\t\t\t\t\tgrid-template-columns: auto;\n",
       "\t\t\t\t\t\t\t\t\t\t\t\t\t}\n",
       "\t\t\t\t\t\t\t\t\t\t\t\t</style>\n",
       "\n",
       "\t\t\t\t\t\t\t\t\t\t\t\t<div><div class=\"grid-container\"><div class=\"grid-item\"><pre style=\"&#102;&#111;&#110;&#116;&#45;&#102;&#97;&#109;&#105;&#108;&#121;&#58;&#32;&#34;&#67;&#111;&#117;&#114;&#105;&#101;&#114;&#32;&#78;&#101;&#119;&#34;&#44;&#67;&#111;&#117;&#114;&#105;&#101;&#114;&#44;&#109;&#111;&#110;&#111;&#115;&#112;&#97;&#99;&#101;&#59;\">&#50;&#48;</pre></div><div class=\"grid-item\"><pre style=\"&#102;&#111;&#110;&#116;&#45;&#102;&#97;&#109;&#105;&#108;&#121;&#58;&#32;&#34;&#67;&#111;&#117;&#114;&#105;&#101;&#114;&#32;&#78;&#101;&#119;&#34;&#44;&#67;&#111;&#117;&#114;&#105;&#101;&#114;&#44;&#109;&#111;&#110;&#111;&#115;&#112;&#97;&#99;&#101;&#59;\">&#51;&#48;</pre></div><div class=\"grid-item\"><pre style=\"&#102;&#111;&#110;&#116;&#45;&#102;&#97;&#109;&#105;&#108;&#121;&#58;&#32;&#34;&#67;&#111;&#117;&#114;&#105;&#101;&#114;&#32;&#78;&#101;&#119;&#34;&#44;&#67;&#111;&#117;&#114;&#105;&#101;&#114;&#44;&#109;&#111;&#110;&#111;&#115;&#112;&#97;&#99;&#101;&#59;\">&#49;&#53;&#48;</pre></div></div></div>"
      ],
      "text/plain": [
       "20\n",
       "30\n",
       "150"
      ]
     },
     "execution_count": 14,
     "metadata": {
      "text/html": [],
      "text/plain": []
     },
     "output_type": "execute_result"
    }
   ],
   "source": [
    "x=20\n",
    "y=30\n",
    "z=150"
   ]
  },
  {
   "cell_type": "code",
   "execution_count": 18,
   "metadata": {
    "vscode": {
     "languageId": "wolfram"
    }
   },
   "outputs": [
    {
     "data": {
      "text/html": [
       "<div><pre style=\"&#102;&#111;&#110;&#116;&#45;&#102;&#97;&#109;&#105;&#108;&#121;&#58;&#32;&#34;&#67;&#111;&#117;&#114;&#105;&#101;&#114;&#32;&#78;&#101;&#119;&#34;&#44;&#67;&#111;&#117;&#114;&#105;&#101;&#114;&#44;&#109;&#111;&#110;&#111;&#115;&#112;&#97;&#99;&#101;&#59;\">&#49;&#48;&#48;&#48;</pre></div>"
      ],
      "text/plain": [
       "1000"
      ]
     },
     "execution_count": 18,
     "metadata": {
      "text/html": [],
      "text/plain": []
     },
     "output_type": "execute_result"
    }
   ],
   "source": [
    "x(4+x/20)+y(2+y/10)+5z"
   ]
  },
  {
   "cell_type": "code",
   "execution_count": 19,
   "metadata": {
    "vscode": {
     "languageId": "wolfram"
    }
   },
   "outputs": [
    {
     "data": {
      "text/html": [
       "<div><pre style=\"&#102;&#111;&#110;&#116;&#45;&#102;&#97;&#109;&#105;&#108;&#121;&#58;&#32;&#34;&#67;&#111;&#117;&#114;&#105;&#101;&#114;&#32;&#78;&#101;&#119;&#34;&#44;&#67;&#111;&#117;&#114;&#105;&#101;&#114;&#44;&#109;&#111;&#110;&#111;&#115;&#112;&#97;&#99;&#101;&#59;\">&#49;&#50;&#48;&#48;</pre></div>"
      ],
      "text/plain": [
       "1200"
      ]
     },
     "execution_count": 19,
     "metadata": {
      "text/html": [],
      "text/plain": []
     },
     "output_type": "execute_result"
    }
   ],
   "source": [
    "6*200"
   ]
  },
  {
   "cell_type": "code",
   "execution_count": null,
   "metadata": {
    "vscode": {
     "languageId": "wolfram"
    }
   },
   "outputs": [],
   "source": []
  }
 ],
 "metadata": {
  "kernelspec": {
   "display_name": "Wolfram Language 12.3",
   "language": "Wolfram Language",
   "name": "wolframlanguage12.3"
  },
  "language_info": {
   "codemirror_mode": "mathematica",
   "file_extension": ".m",
   "mimetype": "application/vnd.wolfram.m",
   "name": "Wolfram Language",
   "pygments_lexer": "mathematica",
   "version": "12.0"
  },
  "orig_nbformat": 4,
  "vscode": {
   "interpreter": {
    "hash": "369f2c481f4da34e4445cda3fffd2e751bd1c4d706f27375911949ba6bb62e1c"
   }
  }
 },
 "nbformat": 4,
 "nbformat_minor": 2
}
